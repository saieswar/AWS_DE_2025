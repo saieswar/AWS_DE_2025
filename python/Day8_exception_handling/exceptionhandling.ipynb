{
 "cells": [
  {
   "cell_type": "code",
   "execution_count": null,
   "metadata": {},
   "outputs": [],
   "source": []
  },
  {
   "cell_type": "code",
   "execution_count": null,
   "metadata": {},
   "outputs": [],
   "source": [
    "#programming 3 types of errors\n",
    "#1) compile err \n",
    "#2) logical err\n",
    "#3) run time err "
   ]
  },
  {
   "cell_type": "code",
   "execution_count": 3,
   "metadata": {},
   "outputs": [
    {
     "data": {
      "text/plain": [
       "0.8333333333333334"
      ]
     },
     "execution_count": 3,
     "metadata": {},
     "output_type": "execute_result"
    }
   ],
   "source": [
    "a = 5 \n",
    "b = 6 \n",
    "a/b"
   ]
  },
  {
   "cell_type": "code",
   "execution_count": 4,
   "metadata": {},
   "outputs": [],
   "source": [
    "c = 0"
   ]
  },
  {
   "cell_type": "code",
   "execution_count": 5,
   "metadata": {},
   "outputs": [
    {
     "ename": "ZeroDivisionError",
     "evalue": "division by zero",
     "output_type": "error",
     "traceback": [
      "\u001b[1;31m---------------------------------------------------------------------------\u001b[0m",
      "\u001b[1;31mZeroDivisionError\u001b[0m                         Traceback (most recent call last)",
      "Cell \u001b[1;32mIn[5], line 1\u001b[0m\n\u001b[1;32m----> 1\u001b[0m \u001b[43mb\u001b[49m\u001b[38;5;241;43m/\u001b[39;49m\u001b[43mc\u001b[49m \n",
      "\u001b[1;31mZeroDivisionError\u001b[0m: division by zero"
     ]
    }
   ],
   "source": [
    "b/c "
   ]
  },
  {
   "cell_type": "code",
   "execution_count": null,
   "metadata": {},
   "outputs": [
    {
     "name": "stdout",
     "output_type": "stream",
     "text": [
      "0.6666666666666666\n",
      "i done well\n"
     ]
    },
    {
     "ename": "ZeroDivisionError",
     "evalue": "division by zero",
     "output_type": "error",
     "traceback": [
      "\u001b[1;31m---------------------------------------------------------------------------\u001b[0m",
      "\u001b[1;31mZeroDivisionError\u001b[0m                         Traceback (most recent call last)",
      "Cell \u001b[1;32mIn[6], line 6\u001b[0m\n\u001b[0;32m      4\u001b[0m \u001b[38;5;28mprint\u001b[39m(a\u001b[38;5;241m/\u001b[39mb) \n\u001b[0;32m      5\u001b[0m \u001b[38;5;28mprint\u001b[39m(\u001b[38;5;124m\"\u001b[39m\u001b[38;5;124mi done well\u001b[39m\u001b[38;5;124m\"\u001b[39m)\n\u001b[1;32m----> 6\u001b[0m \u001b[43mb\u001b[49m\u001b[38;5;241;43m/\u001b[39;49m\u001b[43mc\u001b[49m \n\u001b[0;32m      7\u001b[0m \u001b[38;5;28mprint\u001b[39m(\u001b[38;5;124m\"\u001b[39m\u001b[38;5;124mi have to check now\u001b[39m\u001b[38;5;124m\"\u001b[39m)\n",
      "\u001b[1;31mZeroDivisionError\u001b[0m: division by zero"
     ]
    }
   ],
   "source": [
    "a=4\n",
    "b=6\n",
    "c=0 \n",
    "print(a/b) \n",
    "print(\"i done well\")\n",
    "b/c \n",
    "print(\"i have to check now\")"
   ]
  },
  {
   "cell_type": "code",
   "execution_count": 10,
   "metadata": {},
   "outputs": [
    {
     "name": "stdout",
     "output_type": "stream",
     "text": [
      "0.6666666666666666\n",
      "i done well\n",
      "division by zero\n",
      "i have to check now\n",
      "bye\n"
     ]
    }
   ],
   "source": [
    "try:\n",
    "    a=4\n",
    "    b=6\n",
    "    c=0 \n",
    "    print(a/b) \n",
    "    print(\"i done well\")\n",
    "    try:\n",
    "        b/c\n",
    "    except Exception as e:\n",
    "        print(e)\n",
    "    print(\"i have to check now\")\n",
    "except Exception as e:\n",
    "    print(\"you can't divide by zero\")\n",
    "    print(e)\n",
    "    \n",
    "\n",
    "print(\"bye\")"
   ]
  },
  {
   "cell_type": "code",
   "execution_count": 16,
   "metadata": {},
   "outputs": [
    {
     "name": "stdout",
     "output_type": "stream",
     "text": [
      "File Opened\n",
      "9.0\n",
      "File close\n"
     ]
    }
   ],
   "source": [
    "x= 9\n",
    "y = 1\n",
    "try:\n",
    "    print(\"File Opened\")\n",
    "    print(x/y)\n",
    "except Exception as e:\n",
    "\n",
    "    print(\"Hey you can't divide by 0\")\n",
    "    print(e)\n",
    "finally:\n",
    "    print(\"File close\")\n"
   ]
  },
  {
   "cell_type": "code",
   "execution_count": null,
   "metadata": {},
   "outputs": [
    {
     "name": "stdout",
     "output_type": "stream",
     "text": [
      "open file\n",
      "enter input\n",
      "Handling input value invalid literal for int() with base 10: 'sai'\n",
      "File close\n",
      "bye exception handling is done\n"
     ]
    }
   ],
   "source": [
    "a = 6\n",
    "b = 3\n",
    "try:\n",
    "    print(\"open file\")\n",
    "    print(\"enter input\")\n",
    "    # x  = int(input())\n",
    "    # print(x)\n",
    "    #input from key board\n",
    "    print(a/b)\n",
    "except ZeroDivisionError as z:\n",
    "    print(\"Handling zero Division\", z)\n",
    "except ValueError as v:\n",
    "    print(\"Handling input value\", v)\n",
    "except Exception as e:\n",
    "    print(\"Any err i don't know\", e)\n",
    "finally:\n",
    "    print(\"File close\")\n",
    "\n",
    "print(\"bye exception handling is done\")\n",
    "\n"
   ]
  }
 ],
 "metadata": {
  "kernelspec": {
   "display_name": "Python 3",
   "language": "python",
   "name": "python3"
  },
  "language_info": {
   "codemirror_mode": {
    "name": "ipython",
    "version": 3
   },
   "file_extension": ".py",
   "mimetype": "text/x-python",
   "name": "python",
   "nbconvert_exporter": "python",
   "pygments_lexer": "ipython3",
   "version": "3.11.3"
  }
 },
 "nbformat": 4,
 "nbformat_minor": 2
}
