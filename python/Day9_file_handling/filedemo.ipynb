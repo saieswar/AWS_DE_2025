{
 "cells": [
  {
   "cell_type": "code",
   "execution_count": 8,
   "metadata": {},
   "outputs": [
    {
     "name": "stdout",
     "output_type": "stream",
     "text": [
      "This is my sample text file\n",
      "\n",
      "I generally use for Training \n",
      "\n",
      "check\n"
     ]
    }
   ],
   "source": [
    "file_path = \"data.txt\"\n",
    "# Day9_file_handling\\filedemo.ipynb\n",
    "# C:\\Work\\2025\\AWS_DE\\python\\Day9_file_handling\\data.txt \n",
    "\n",
    "try:\n",
    "    with open(file_path, 'r') as file:\n",
    "        print(file.readline())\n",
    "        print(file.readline())\n",
    "        print(\"check\")\n",
    "except FileNotFoundError as f:\n",
    "    print(f)\n",
    "finally:\n",
    "    file.close()"
   ]
  },
  {
   "cell_type": "code",
   "execution_count": null,
   "metadata": {},
   "outputs": [
    {
     "name": "stdout",
     "output_type": "stream",
     "text": [
      "This is my sample text file\n",
      "\n",
      "I generally use for Training \n",
      "\n",
      "\n",
      "\n",
      " Files concept\n",
      "\n",
      " \n"
     ]
    }
   ],
   "source": [
    "try:\n",
    "    f = open(\"data.txt\", \"r\")\n",
    "    f1 = open('abc.txt','w')\n",
    "    for data in f:\n",
    "        print(data)\n",
    "        f1.write(data)\n",
    "except Exception as e:\n",
    "    print(e)\n",
    "\n",
    "finally:\n",
    "    \n",
    "    f1.close()"
   ]
  },
  {
   "cell_type": "code",
   "execution_count": 16,
   "metadata": {},
   "outputs": [
    {
     "name": "stdout",
     "output_type": "stream",
     "text": [
      "Thi\n"
     ]
    }
   ],
   "source": [
    "f = open(\"data.txt\", \"r\")\n",
    "print(f.readline(3))\n"
   ]
  },
  {
   "cell_type": "code",
   "execution_count": 23,
   "metadata": {},
   "outputs": [
    {
     "name": "stdout",
     "output_type": "stream",
     "text": [
      "This is my sample text file\n",
      "I generally use for Training \n",
      "\n",
      " Files concept\n",
      " \n"
     ]
    }
   ],
   "source": [
    "\n",
    "f1 = open(\"data.txt\", \"r\")\n",
    "print(f1.read())\n",
    "f1.close()"
   ]
  },
  {
   "cell_type": "code",
   "execution_count": null,
   "metadata": {},
   "outputs": [],
   "source": []
  }
 ],
 "metadata": {
  "kernelspec": {
   "display_name": "Python 3",
   "language": "python",
   "name": "python3"
  },
  "language_info": {
   "codemirror_mode": {
    "name": "ipython",
    "version": 3
   },
   "file_extension": ".py",
   "mimetype": "text/x-python",
   "name": "python",
   "nbconvert_exporter": "python",
   "pygments_lexer": "ipython3",
   "version": "3.11.3"
  }
 },
 "nbformat": 4,
 "nbformat_minor": 2
}
