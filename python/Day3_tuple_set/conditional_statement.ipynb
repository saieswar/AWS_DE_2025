{
 "cells": [
  {
   "cell_type": "code",
   "execution_count": null,
   "metadata": {},
   "outputs": [],
   "source": [
    "#if else\n"
   ]
  },
  {
   "cell_type": "code",
   "execution_count": 2,
   "metadata": {},
   "outputs": [
    {
     "name": "stdout",
     "output_type": "stream",
     "text": [
      "Shree is Rich\n"
     ]
    }
   ],
   "source": [
    "shree_sal=50000\n",
    "if shree_sal>=50000:   \n",
    "    print(\"Shree is Rich\")\n",
    "else:\n",
    "    print(\"Avg\")\n"
   ]
  },
  {
   "cell_type": "code",
   "execution_count": 3,
   "metadata": {},
   "outputs": [
    {
     "data": {
      "text/plain": [
       "True"
      ]
     },
     "execution_count": 3,
     "metadata": {},
     "output_type": "execute_result"
    }
   ],
   "source": [
    "shree_sal>=50000"
   ]
  },
  {
   "cell_type": "code",
   "execution_count": null,
   "metadata": {},
   "outputs": [
    {
     "name": "stdout",
     "output_type": "stream",
     "text": [
      "I know this will work\n"
     ]
    }
   ],
   "source": [
    "if True:\n",
    "    print(\"I know this will work\")\n",
    "else:\n",
    "    printfdsfcdsfgvsdgrfsv(\"I dont work\")"
   ]
  },
  {
   "cell_type": "code",
   "execution_count": 6,
   "metadata": {},
   "outputs": [
    {
     "name": "stdout",
     "output_type": "stream",
     "text": [
      "I know this is working default\n"
     ]
    }
   ],
   "source": [
    "if False:\n",
    "    print(\"i know it wont work\")\n",
    "else:\n",
    "    print(\"I know this is working default\")"
   ]
  },
  {
   "cell_type": "code",
   "execution_count": null,
   "metadata": {},
   "outputs": [
    {
     "name": "stdout",
     "output_type": "stream",
     "text": [
      "Rich\n",
      "very rich\n"
     ]
    }
   ],
   "source": [
    "if shree_sal >30000:\n",
    "    if shree_sal > 40000:\n",
    "        print(\"Rich\")\n",
    "        if shree_sal >=50000:\n",
    "            print(\"very rich\")\n",
    "    if shree_sal > 60000:\n",
    "        print(\"too rich\")\n",
    "else:\n",
    "    print(\"avg\")"
   ]
  },
  {
   "cell_type": "code",
   "execution_count": 9,
   "metadata": {},
   "outputs": [
    {
     "name": "stdout",
     "output_type": "stream",
     "text": [
      "Richest\n"
     ]
    }
   ],
   "source": [
    "if shree_sal < 30000:    #shree_sal = 50000\n",
    "    if shree_sal > 40000:\n",
    "        print(\"Rich\")\n",
    "        if shree_sal >=50000:\n",
    "            print(\"very rich\")\n",
    "    if shree_sal > 60000:\n",
    "        print(\"too rich\")\n",
    "else:\n",
    "    if shree_sal==50000:\n",
    "        print(\"Richest\")"
   ]
  },
  {
   "cell_type": "code",
   "execution_count": null,
   "metadata": {},
   "outputs": [
    {
     "name": "stdout",
     "output_type": "stream",
     "text": [
      "sal is fine\n"
     ]
    }
   ],
   "source": [
    "if shree_sal==50000 and shree_sal > 19999:\n",
    "    print(\"sal is fine\")\n",
    "else:\n",
    "    print(\"Not fine\")"
   ]
  },
  {
   "cell_type": "code",
   "execution_count": 11,
   "metadata": {},
   "outputs": [
    {
     "name": "stdout",
     "output_type": "stream",
     "text": [
      "Not fine\n"
     ]
    }
   ],
   "source": [
    "if shree_sal==50000 and shree_sal < 19999:\n",
    "    print(\"sal is fine\")\n",
    "else:\n",
    "    print(\"Not fine\")"
   ]
  },
  {
   "cell_type": "code",
   "execution_count": null,
   "metadata": {},
   "outputs": [
    {
     "name": "stdout",
     "output_type": "stream",
     "text": [
      "sal is fine\n"
     ]
    }
   ],
   "source": [
    "if shree_sal==50000 or shree_sal < 19999:\n",
    "    print(\"sal is fine\")\n",
    "else:\n",
    "    print(\"Not fine\")"
   ]
  },
  {
   "cell_type": "code",
   "execution_count": null,
   "metadata": {},
   "outputs": [],
   "source": [
    "li = [2,6,3+5j,\"sai\",[2,4,5]]"
   ]
  }
 ],
 "metadata": {
  "kernelspec": {
   "display_name": "Python 3",
   "language": "python",
   "name": "python3"
  },
  "language_info": {
   "codemirror_mode": {
    "name": "ipython",
    "version": 3
   },
   "file_extension": ".py",
   "mimetype": "text/x-python",
   "name": "python",
   "nbconvert_exporter": "python",
   "pygments_lexer": "ipython3",
   "version": "3.11.3"
  }
 },
 "nbformat": 4,
 "nbformat_minor": 2
}
