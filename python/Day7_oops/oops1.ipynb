{
 "cells": [
  {
   "cell_type": "code",
   "execution_count": 2,
   "metadata": {},
   "outputs": [
    {
     "name": "stdout",
     "output_type": "stream",
     "text": [
      "<class 'int'>\n",
      "<class 'str'>\n"
     ]
    }
   ],
   "source": [
    "a = 5 \n",
    "str1 = \"shree\"\n",
    "print(type(a))\n",
    "print(type(str1))"
   ]
  },
  {
   "cell_type": "code",
   "execution_count": null,
   "metadata": {},
   "outputs": [],
   "source": [
    "\n",
    "def walk():\n",
    "    print(\"walk with legs\")\n",
    "\n",
    "\n",
    "def talk():\n",
    "    print(\"person can able to open his mount , communicat with tounge teeth together\")\n"
   ]
  },
  {
   "cell_type": "code",
   "execution_count": null,
   "metadata": {},
   "outputs": [
    {
     "name": "stdout",
     "output_type": "stream",
     "text": [
      "i7, 16gb, 1TB\n",
      "i7, 16gb, 1TB\n"
     ]
    }
   ],
   "source": [
    "class Computer:\n",
    "\n",
    "    def config(self):\n",
    "        print(\"i7, 16gb, 1TB\")\n",
    "\n",
    "\n",
    "lenov11t6 = Computer()\n",
    "com2 = Computer()\n",
    "\n",
    "com2.config()\n",
    "\n",
    "Computer.config(com2)\n",
    "\n",
    "\n"
   ]
  },
  {
   "cell_type": "code",
   "execution_count": 4,
   "metadata": {},
   "outputs": [
    {
     "ename": "TypeError",
     "evalue": "Computer.config() missing 1 required positional argument: 'self'",
     "output_type": "error",
     "traceback": [
      "\u001b[1;31m---------------------------------------------------------------------------\u001b[0m",
      "\u001b[1;31mTypeError\u001b[0m                                 Traceback (most recent call last)",
      "Cell \u001b[1;32mIn[4], line 1\u001b[0m\n\u001b[1;32m----> 1\u001b[0m \u001b[43mComputer\u001b[49m\u001b[38;5;241;43m.\u001b[39;49m\u001b[43mconfig\u001b[49m\u001b[43m(\u001b[49m\u001b[43m)\u001b[49m\n",
      "\u001b[1;31mTypeError\u001b[0m: Computer.config() missing 1 required positional argument: 'self'"
     ]
    }
   ],
   "source": [
    "Computer.config()"
   ]
  },
  {
   "cell_type": "code",
   "execution_count": null,
   "metadata": {},
   "outputs": [],
   "source": [
    "class Computer:\n",
    "    \n",
    "    def __init__(self,cpu, ram):\n",
    "        self.cpu = cpu\n",
    "        self.ram = ram\n",
    "         \n",
    "\n",
    "    def get_config(self):\n",
    "        return self.cpu, self.ram\n"
   ]
  },
  {
   "cell_type": "code",
   "execution_count": null,
   "metadata": {},
   "outputs": [
    {
     "name": "stdout",
     "output_type": "stream",
     "text": [
      "i9\n",
      "i5\n"
     ]
    },
    {
     "data": {
      "text/plain": [
       "('i9', '64gb')"
      ]
     },
     "execution_count": 20,
     "metadata": {},
     "output_type": "execute_result"
    }
   ],
   "source": [
    "com1 = Computer('i7', '16gb')\n",
    "com2 = Computer('i9', '64gb')\n",
    "\n",
    "com1.cpu = 'i5'\n",
    "print(com2.cpu)\n",
    "print(com1.cpu)\n",
    "\n",
    "com2.get_config()"
   ]
  },
  {
   "cell_type": "code",
   "execution_count": null,
   "metadata": {},
   "outputs": [],
   "source": []
  }
 ],
 "metadata": {
  "kernelspec": {
   "display_name": "Python 3",
   "language": "python",
   "name": "python3"
  },
  "language_info": {
   "codemirror_mode": {
    "name": "ipython",
    "version": 3
   },
   "file_extension": ".py",
   "mimetype": "text/x-python",
   "name": "python",
   "nbconvert_exporter": "python",
   "pygments_lexer": "ipython3",
   "version": "3.11.3"
  }
 },
 "nbformat": 4,
 "nbformat_minor": 2
}
