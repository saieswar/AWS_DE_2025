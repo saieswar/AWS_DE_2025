{
 "cells": [
  {
   "cell_type": "code",
   "execution_count": 2,
   "metadata": {},
   "outputs": [
    {
     "name": "stdout",
     "output_type": "stream",
     "text": [
      "meow!\n",
      "boww!\n"
     ]
    }
   ],
   "source": [
    "#polymorphism  -> multiple forms\n",
    "# 1) duck, 2) operator overloading, method overloading, method overriding\n",
    "\n",
    "\n",
    "\n",
    "class Dog:\n",
    "    def speak(self):\n",
    "        return \"boww!\"\n",
    "    \n",
    "class Cat:\n",
    "    def speak(self):\n",
    "        return 'meow!'\n",
    "\n",
    "def animal_sound(animal):\n",
    "    print(animal.speak())\n",
    "\n",
    "dog = Dog()\n",
    "cat = Cat()\n",
    "\n",
    "animal_sound(cat)\n",
    "animal_sound(dog)"
   ]
  },
  {
   "cell_type": "code",
   "execution_count": null,
   "metadata": {},
   "outputs": [],
   "source": [
    "# Operator overloading\n",
    "\n",
    "class PointA:\n",
    "\n",
    "    def __init__(self, x,y):\n",
    "        self.x = x \n",
    "        self.y = y\n",
    "        \n",
    "    def __add__(self, other):\n",
    "        #self+other\n",
    "        return PointA(self.x + other.x, self.y+other.y) \n",
    "\n",
    "\n",
    "p1 = PointA(1,2)\n",
    "p2 = PointA(3,5)\n",
    "p3 = p1+p2  # Point.sum(p1,p2)\n"
   ]
  },
  {
   "cell_type": "code",
   "execution_count": null,
   "metadata": {},
   "outputs": [
    {
     "data": {
      "text/plain": [
       "10"
      ]
     },
     "execution_count": 17,
     "metadata": {},
     "output_type": "execute_result"
    }
   ],
   "source": [
    "4+6  #int.__add__(4,6)"
   ]
  },
  {
   "cell_type": "code",
   "execution_count": 6,
   "metadata": {},
   "outputs": [
    {
     "data": {
      "text/plain": [
       "4"
      ]
     },
     "execution_count": 6,
     "metadata": {},
     "output_type": "execute_result"
    }
   ],
   "source": [
    "p3.x"
   ]
  },
  {
   "cell_type": "code",
   "execution_count": 7,
   "metadata": {},
   "outputs": [
    {
     "data": {
      "text/plain": [
       "7"
      ]
     },
     "execution_count": 7,
     "metadata": {},
     "output_type": "execute_result"
    }
   ],
   "source": [
    "p3.y"
   ]
  },
  {
   "cell_type": "code",
   "execution_count": null,
   "metadata": {},
   "outputs": [
    {
     "data": {
      "text/plain": [
       "9"
      ]
     },
     "execution_count": 8,
     "metadata": {},
     "output_type": "execute_result"
    }
   ],
   "source": [
    "a = 4 \n",
    "b = 5 \n",
    "\n",
    "\n",
    "a +b #int.__add__(a,b)"
   ]
  },
  {
   "cell_type": "code",
   "execution_count": null,
   "metadata": {},
   "outputs": [
    {
     "data": {
      "text/plain": [
       "9"
      ]
     },
     "execution_count": 11,
     "metadata": {},
     "output_type": "execute_result"
    }
   ],
   "source": [
    "int.__add__(4,5)"
   ]
  },
  {
   "cell_type": "code",
   "execution_count": 13,
   "metadata": {},
   "outputs": [
    {
     "data": {
      "text/plain": [
       "__main__.Point"
      ]
     },
     "execution_count": 13,
     "metadata": {},
     "output_type": "execute_result"
    }
   ],
   "source": [
    "type(p1)"
   ]
  },
  {
   "cell_type": "code",
   "execution_count": 14,
   "metadata": {},
   "outputs": [
    {
     "data": {
      "text/plain": [
       "int"
      ]
     },
     "execution_count": 14,
     "metadata": {},
     "output_type": "execute_result"
    }
   ],
   "source": [
    "type(3)"
   ]
  },
  {
   "cell_type": "code",
   "execution_count": null,
   "metadata": {},
   "outputs": [],
   "source": [
    "class Greet:\n",
    "    def hello(self, name=None): # overlaoding\n",
    "        if name:\n",
    "            print(f\"Hello, {name}!\")\n",
    "        else:\n",
    "            print(\"Hello!\")\n",
    "\n",
    "g = Greet()\n",
    "g.hello()         # Hello!\n",
    "g.hello(\"Alice\")  # Hello, Alice!\n"
   ]
  },
  {
   "cell_type": "code",
   "execution_count": 31,
   "metadata": {},
   "outputs": [
    {
     "name": "stdout",
     "output_type": "stream",
     "text": [
      "Car started with key\n",
      "Bike started with kick\n"
     ]
    }
   ],
   "source": [
    "class Vehicle:\n",
    "    def start(self):\n",
    "        print(\"Vehicle started\")\n",
    "\n",
    "class Car(Vehicle):\n",
    "    def start(self):\n",
    "        print(\"Car started with key\")\n",
    "\n",
    "class Bike(Vehicle):\n",
    "    def start(self):\n",
    "        \n",
    "        print(\"Bike started with kick\")\n",
    "\n",
    "c = Car()\n",
    "b = Bike()\n",
    "\n",
    "c.start()  # Car started with key\n",
    "b.start()  # Bike started with kick\n"
   ]
  },
  {
   "cell_type": "code",
   "execution_count": null,
   "metadata": {},
   "outputs": [
    {
     "name": "stdout",
     "output_type": "stream",
     "text": [
      "Samsung high end\n"
     ]
    }
   ],
   "source": [
    "class A:\n",
    "\n",
    "    def mobile(self):\n",
    "        print(\"This is Nokia 1100\")\n",
    "\n",
    "class B(A):\n",
    "\n",
    "   def mobile(self):\n",
    "        print(\"Samsung high end\")\n",
    "\n",
    "\n",
    "b = B()\n",
    "b.mobile()"
   ]
  },
  {
   "cell_type": "code",
   "execution_count": null,
   "metadata": {},
   "outputs": [],
   "source": []
  }
 ],
 "metadata": {
  "kernelspec": {
   "display_name": "Python 3",
   "language": "python",
   "name": "python3"
  },
  "language_info": {
   "codemirror_mode": {
    "name": "ipython",
    "version": 3
   },
   "file_extension": ".py",
   "mimetype": "text/x-python",
   "name": "python",
   "nbconvert_exporter": "python",
   "pygments_lexer": "ipython3",
   "version": "3.11.3"
  }
 },
 "nbformat": 4,
 "nbformat_minor": 2
}
