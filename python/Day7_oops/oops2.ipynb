{
 "cells": [
  {
   "cell_type": "code",
   "execution_count": null,
   "metadata": {},
   "outputs": [
    {
     "name": "stdout",
     "output_type": "stream",
     "text": [
      "avg marks :  83.0\n",
      "school name : kvs\n",
      "kvs\n",
      "This is class written for student\n"
     ]
    }
   ],
   "source": [
    "class Stundent:\n",
    "\n",
    "    school = \"kvs\"\n",
    "\n",
    "    def __init__(self, m1,m2,m3):\n",
    "        self.m1 = m1\n",
    "        self.m2 = m2 \n",
    "        self.m3 = m3\n",
    "\n",
    "    \n",
    "    def avg(self):\n",
    "        return (self.m1+self.m2+self.m3)/3\n",
    "    \n",
    "    @classmethod\n",
    "    def get_school_name(cls):\n",
    "        return cls.school  \n",
    "    \n",
    "    @staticmethod\n",
    "    def info():\n",
    "        # print(Stundent.school)\n",
    "        print(\"This is class written for student\")\n",
    "\n",
    "shree = Stundent(70,80,99)\n",
    "\n",
    "print(\"avg marks : \", shree.avg())\n",
    "\n",
    "\n",
    "print(\"school name :\", Stundent.get_school_name())\n",
    "\n",
    "Stundent.info()\n",
    "\n",
    "\"sao\".capitalize()\n"
   ]
  },
  {
   "cell_type": "code",
   "execution_count": null,
   "metadata": {},
   "outputs": [
    {
     "name": "stdout",
     "output_type": "stream",
     "text": [
      "this is feature 1 - A\n",
      "this is feature 2 - A\n"
     ]
    }
   ],
   "source": [
    "### Inheritance\n",
    "\n",
    "class A:\n",
    "    def feature1(self):\n",
    "        print(\"this is feature 1 - A\")\n",
    "\n",
    "    def feature2(self):\n",
    "        print(\"this is feature 2 - A\")\n",
    "\n",
    "\n",
    "a1 = A()\n",
    "a1.feature1()\n",
    "a1.feature2()"
   ]
  },
  {
   "cell_type": "code",
   "execution_count": 18,
   "metadata": {},
   "outputs": [
    {
     "name": "stdout",
     "output_type": "stream",
     "text": [
      "this is feature 1 - A\n",
      "this is feature 3 - B\n"
     ]
    }
   ],
   "source": [
    "class B(A):\n",
    "     \n",
    "    def feature3(self):\n",
    "        print(\"this is feature 3 - B\")\n",
    "    \n",
    "    def feature4(self):\n",
    "        print(\"this is feature 4 - B\")\n",
    "\n",
    "b1 = B()\n",
    "b1.feature1()\n",
    "b1.feature3()"
   ]
  },
  {
   "cell_type": "code",
   "execution_count": null,
   "metadata": {},
   "outputs": [
    {
     "name": "stdout",
     "output_type": "stream",
     "text": [
      "this is feature 1 - A\n"
     ]
    }
   ],
   "source": [
    "class C(B): #class c extends B\n",
    "    def feature5(self):\n",
    "        print(\"this is feature 5 - C\")\n",
    "c1 = C()\n",
    "c1.feature1()\n"
   ]
  },
  {
   "cell_type": "code",
   "execution_count": null,
   "metadata": {},
   "outputs": [],
   "source": []
  },
  {
   "cell_type": "code",
   "execution_count": 21,
   "metadata": {},
   "outputs": [
    {
     "name": "stdout",
     "output_type": "stream",
     "text": [
      "in class B - init\n"
     ]
    }
   ],
   "source": [
    "class A:\n",
    "    \n",
    "    def __init__(self):\n",
    "        print(\"in class A - init\")\n",
    "\n",
    "    def feature1(self):\n",
    "        print(\"this is feature 1 - A\")\n",
    "\n",
    "    def feature2(self):\n",
    "        print(\"this is feature 2 - A\")\n",
    "\n",
    "\n",
    "class B(A):\n",
    "    \n",
    "    def __init__(self):\n",
    "        print(\"in class B - init\")\n",
    "        \n",
    "    def feature3(self):\n",
    "        print(\"this is feature 3 - B\")\n",
    "    \n",
    "    def feature4(self):\n",
    "        print(\"this is feature 4 - B\")\n",
    "\n",
    "\n",
    "b10 = B()"
   ]
  },
  {
   "cell_type": "code",
   "execution_count": null,
   "metadata": {},
   "outputs": [
    {
     "name": "stdout",
     "output_type": "stream",
     "text": [
      "in class A - init\n",
      "this is feature 1 - A\n"
     ]
    }
   ],
   "source": [
    "\n",
    "class A:\n",
    "    \n",
    "    def __init__(self):\n",
    "        print(\"in class A - init\")\n",
    "    \n",
    "    def feature1(self):\n",
    "        print(\"this is feature 1 - A\")\n",
    "\n",
    "    def feature2(self):\n",
    "        print(\"this is feature 2 - A\")\n",
    "\n",
    "\n",
    "class B:\n",
    "    \n",
    "    def __init__(self):\n",
    "        print(\"in class B - init\")\n",
    "        \n",
    "    def feature1(self):\n",
    "        print(\"this is feature 1 - B\")\n",
    "\n",
    "\n",
    "    def feature3(self):\n",
    "        print(\"this is feature 3 - B\")\n",
    "   \n",
    "\n",
    "    def feature4(self):\n",
    "        print(\"this is feature 4 - B\")\n",
    "\n",
    "\n",
    "class C(A,B): #method resolution order \n",
    "  \n",
    "    def feature7(self):\n",
    "        print(\"this is feature 7 - B\")\n",
    "\n",
    "c5 = C()\n",
    "c5.feature1()\n"
   ]
  },
  {
   "cell_type": "code",
   "execution_count": null,
   "metadata": {},
   "outputs": [],
   "source": []
  },
  {
   "cell_type": "code",
   "execution_count": null,
   "metadata": {},
   "outputs": [
    {
     "name": "stdout",
     "output_type": "stream",
     "text": [
      "in class A - init\n",
      "in class B - init\n",
      "this is feature 1 - A\n",
      "this is feature 3 - B\n"
     ]
    }
   ],
   "source": [
    "class A:\n",
    "    \n",
    "    def __init__(self):\n",
    "        print(\"in class A - init\")\n",
    "\n",
    "    def feature1(self):\n",
    "        print(\"this is feature 1 - A\")\n",
    "\n",
    "    def feature2(self):\n",
    "        print(\"this is feature 2 - A\")\n",
    "\n",
    "\n",
    "class B(A):\n",
    "    \n",
    "    def __init__(self):\n",
    "        super().__init__()\n",
    "        print(\"in class B - init\")\n",
    "\n",
    "\n",
    "    def feature3(self):\n",
    "        super().feature1()\n",
    "        print(\"this is feature 3 - B\")\n",
    "   \n",
    "\n",
    "    def feature4(self):\n",
    "        print(\"this is feature 4 - B\")\n",
    "\n",
    "\n",
    "b= B()\n",
    "b.feature3()\n"
   ]
  },
  {
   "cell_type": "code",
   "execution_count": null,
   "metadata": {},
   "outputs": [],
   "source": []
  }
 ],
 "metadata": {
  "kernelspec": {
   "display_name": "Python 3",
   "language": "python",
   "name": "python3"
  },
  "language_info": {
   "codemirror_mode": {
    "name": "ipython",
    "version": 3
   },
   "file_extension": ".py",
   "mimetype": "text/x-python",
   "name": "python",
   "nbconvert_exporter": "python",
   "pygments_lexer": "ipython3",
   "version": "3.11.3"
  }
 },
 "nbformat": 4,
 "nbformat_minor": 2
}
